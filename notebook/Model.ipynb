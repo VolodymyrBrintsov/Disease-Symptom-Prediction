{
 "cells": [
  {
   "cell_type": "code",
   "execution_count": 1,
   "metadata": {},
   "outputs": [],
   "source": [
    "import pandas as pd\n",
    "from sklearn.preprocessing import LabelEncoder\n",
    "import numpy as np\n",
    "from sklearn.ensemble import RandomForestClassifier\n",
    "from sklearn.model_selection import train_test_split, cross_val_score, cross_validate\n",
    "from sklearn.metrics import confusion_matrix, accuracy_score, plot_confusion_matrix, f1_score\n",
    "import matplotlib.pyplot as plt\n",
    "%matplotlib inline"
   ]
  },
  {
   "cell_type": "code",
   "execution_count": 2,
   "metadata": {},
   "outputs": [],
   "source": [
    "#Inspect Data\n",
    "pd.set_option('display.max_columns', 50)\n",
    "pd.set_option('display.max_rows', 10000)\n",
    "df = pd.read_csv('../data/dataset.csv')"
   ]
  },
  {
   "cell_type": "code",
   "execution_count": 3,
   "metadata": {},
   "outputs": [],
   "source": [
    "#Model does not accept nan values, so we need to change them\n",
    "df.fillna('No Symptom', inplace=True)\n",
    "df = df.applymap(lambda row: row.strip())"
   ]
  },
  {
   "cell_type": "code",
   "execution_count": 4,
   "metadata": {},
   "outputs": [],
   "source": [
    "#Create unique symptoms list in order to encode them\n",
    "symptoms_list = []\n",
    "for i in range(1, 18):\n",
    "    symptoms = df.iloc[:, i].unique()\n",
    "    for symptom in symptoms:\n",
    "        symptoms_list.append(symptom)"
   ]
  },
  {
   "cell_type": "code",
   "execution_count": 5,
   "metadata": {},
   "outputs": [],
   "source": [
    "#Encoding label\n",
    "label_encoder = LabelEncoder().fit(np.array(symptoms_list))\n",
    "for i in range(1, 18):\n",
    "    df.iloc[:, i] = label_encoder.transform(df.iloc[:, i])"
   ]
  },
  {
   "cell_type": "code",
   "execution_count": 6,
   "metadata": {},
   "outputs": [],
   "source": [
    "#Create feature set(x) and target(y)\n",
    "x = df.iloc[:, 1:]\n",
    "y = df['Disease']\n",
    "\n",
    "#Train test split\n",
    "x_train, x_test, y_train, y_test = train_test_split(x, y, test_size=0.2)"
   ]
  },
  {
   "cell_type": "code",
   "execution_count": 7,
   "metadata": {},
   "outputs": [
    {
     "name": "stdout",
     "output_type": "stream",
     "text": [
      "{'fit_time': array([0.33173728, 0.32425404, 0.32218814, 0.31573534, 0.34482551,\n",
      "       0.32005405, 0.31689191, 0.32276201, 0.35834408, 0.31894159]), 'score_time': array([0.03492212, 0.03383517, 0.03340793, 0.03331709, 0.03476954,\n",
      "       0.03193069, 0.03194952, 0.0364306 , 0.03263187, 0.03188586]), 'test_precision_macro': array([1., 1., 1., 1., 1., 1., 1., 1., 1., 1.]), 'test_recall_macro': array([1., 1., 1., 1., 1., 1., 1., 1., 1., 1.]), 'test_f1_macro': array([1., 1., 1., 1., 1., 1., 1., 1., 1., 1.])}\n"
     ]
    }
   ],
   "source": [
    "#Random Forest for classification\n",
    "disease_forest = RandomForestClassifier().fit(x_train, y_train)\n",
    "scores = cross_validate(disease_forest, x, y, cv=10, scoring=['precision_macro', 'recall_macro', 'f1_macro'])\n",
    "print(scores)"
   ]
  },
  {
   "cell_type": "markdown",
   "metadata": {},
   "source": [
    "# Average f1 score, precision and recall are equall to 100%"
   ]
  },
  {
   "cell_type": "markdown",
   "metadata": {},
   "source": [
    "# Using our model to predict illness based on chosen symptoms"
   ]
  },
  {
   "cell_type": "code",
   "execution_count": 8,
   "metadata": {},
   "outputs": [
    {
     "name": "stdout",
     "output_type": "stream",
     "text": [
      "The disease: Allergy\n",
      "\n",
      "\tDescription: An allergy is an immune system response to a foreign substance that's not typically harmful to your body.They can include certain foods, pollen, or pet dander. Your immune system's job is to keep you healthy by fighting harmful pathogens.\n",
      "\tPrecaution_1: apply calamine\n",
      "\tPrecaution_2: cover area with bandage\n",
      "\tPrecaution_3: nan\n",
      "\tPrecaution_4: use ice to compress itching\n",
      "\tProbability: 54.0%\n",
      "The disease: Bronchial Asthma\n",
      "\n",
      "\tDescription: Bronchial asthma is a medical condition which causes the airway path of the lungs to swell and narrow. Due to this swelling, the air path produces excess mucus making it hard to breathe, which results in coughing, short breath, and wheezing. The disease is chronic and interferes with daily working.\n",
      "\tPrecaution_1: switch to loose cloothing\n",
      "\tPrecaution_2: take deep breaths\n",
      "\tPrecaution_3: get away from trigger\n",
      "\tPrecaution_4: seek help\n",
      "\tProbability: 8.0%\n",
      "The disease: Dimorphic hemmorhoids(piles)\n",
      "\n",
      "\tDescription: nan\n",
      "\tPrecaution_1: avoid fatty spicy food\n",
      "\tPrecaution_2: consume witch hazel\n",
      "\tPrecaution_3: warm bath with epsom salt\n",
      "\tPrecaution_4: consume alovera juice\n",
      "\tProbability: 7.0%\n",
      "The disease: Urinary tract infection\n",
      "\n",
      "\tDescription: Urinary tract infection: An infection of the kidney, ureter, bladder, or urethra. Abbreviated UTI. Not everyone with a UTI has symptoms, but common symptoms include a frequent urge to urinate and pain or burning when urinating.\n",
      "\tPrecaution_1: drink plenty of water\n",
      "\tPrecaution_2: increase vitamin c intake\n",
      "\tPrecaution_3: drink cranberry juice\n",
      "\tPrecaution_4: take probiotics\n",
      "\tProbability: 5.0%\n",
      "The disease: AIDS\n",
      "\n",
      "\tDescription: Acquired immunodeficiency syndrome (AIDS) is a chronic, potentially life-threatening condition caused by the human immunodeficiency virus (HIV). By damaging your immune system, HIV interferes with your body's ability to fight infection and disease.\n",
      "\tPrecaution_1: avoid open cuts\n",
      "\tPrecaution_2: wear ppe if possible\n",
      "\tPrecaution_3: consult doctor\n",
      "\tPrecaution_4: follow up\n",
      "\tProbability: 5.0%\n"
     ]
    }
   ],
   "source": [
    "#User input prediction\n",
    "user_input = ['cough', 'headache', 'sweating']\n",
    "while len(user_input) < 17:\n",
    "    user_input.append('No Symptom')\n",
    "\n",
    "#Encode user input and predict top 5 possible diagnoses\n",
    "user_input = label_encoder.transform(np.array(user_input)).reshape(-1, 17)\n",
    "diagnose = disease_forest.predict_proba(user_input)\n",
    "index_of_maximum_proba = diagnose.argsort()[0][-5:][::-1]\n",
    "predicted_classes = disease_forest.classes_[index_of_maximum_proba]\n",
    "\n",
    "#Get description df\n",
    "descriptions_df = pd.read_csv('../data/symptom_Description.csv')\n",
    "\n",
    "#Get precautions df\n",
    "precautions_df = pd.read_csv('../data/symptom_precaution.csv')\n",
    "\n",
    "#Precaution and\n",
    "precaution_description_df = pd.merge(descriptions_df, precautions_df, how='outer').set_index('Disease').loc[predicted_classes]\n",
    "precaution_description_df['Probability'] = pd.Series(data = diagnose[0][index_of_maximum_proba], index = predicted_classes).apply(lambda probability: str(round(probability*100, 1)) + '%')\n",
    "\n",
    "precaution_description_dict = precaution_description_df.T.to_dict()\n",
    "for disease, descriptions_precaution_probability in precaution_description_dict.items():\n",
    "    print(f'The disease: {disease}\\n')\n",
    "    for k, v in descriptions_precaution_probability.items():\n",
    "        print(f'\\t{k}: {v}')"
   ]
  },
  {
   "cell_type": "code",
   "execution_count": null,
   "metadata": {},
   "outputs": [],
   "source": []
  }
 ],
 "metadata": {
  "kernelspec": {
   "display_name": "Python 3",
   "language": "python",
   "name": "python3"
  },
  "language_info": {
   "codemirror_mode": {
    "name": "ipython",
    "version": 3
   },
   "file_extension": ".py",
   "mimetype": "text/x-python",
   "name": "python",
   "nbconvert_exporter": "python",
   "pygments_lexer": "ipython3",
   "version": "3.8.5"
  }
 },
 "nbformat": 4,
 "nbformat_minor": 4
}
